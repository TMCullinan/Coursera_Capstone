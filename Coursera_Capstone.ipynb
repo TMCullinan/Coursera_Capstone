{
 "cells": [
  {
   "cell_type": "markdown",
   "id": "4e5f6bac-6eb0-4334-87a7-c84080fda2c6",
   "metadata": {},
   "source": [
    "*This notebook will be mainly used for the capstone project*"
   ]
  },
  {
   "cell_type": "code",
   "execution_count": 1,
   "id": "05d08611-a830-42bb-8f8e-300bab58d582",
   "metadata": {},
   "outputs": [],
   "source": [
    "import pandas as pd\n",
    "import numpy as np"
   ]
  },
  {
   "cell_type": "code",
   "execution_count": 2,
   "id": "69f0feff-3a9c-4ef4-a4e4-91c82bc28271",
   "metadata": {},
   "outputs": [
    {
     "name": "stdout",
     "output_type": "stream",
     "text": [
      "Hello Capstone Project Course!\n"
     ]
    }
   ],
   "source": [
    "print('Hello Capstone Project Course!')"
   ]
  },
  {
   "cell_type": "code",
   "execution_count": null,
   "id": "90dc13a3-ff02-487b-872a-9bc7b48ac215",
   "metadata": {},
   "outputs": [],
   "source": []
  }
 ],
 "metadata": {
  "kernelspec": {
   "display_name": "Python",
   "language": "python",
   "name": "conda-env-python-py"
  },
  "language_info": {
   "codemirror_mode": {
    "name": "ipython",
    "version": 3
   },
   "file_extension": ".py",
   "mimetype": "text/x-python",
   "name": "python",
   "nbconvert_exporter": "python",
   "pygments_lexer": "ipython3",
   "version": "3.6.13"
  }
 },
 "nbformat": 4,
 "nbformat_minor": 5
}
